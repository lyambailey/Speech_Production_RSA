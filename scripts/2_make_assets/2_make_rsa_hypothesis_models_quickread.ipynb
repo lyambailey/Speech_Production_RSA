{
 "cells": [
  {
   "cell_type": "markdown",
   "metadata": {},
   "source": [
    "=============================================================================================================\n",
    "\n",
    "This script is designed to batch-generate RSA hypothesis matrices for the quickread experiment. The code in the script only serves to loop through subjects and conditions. Central to the process is a custom module (make_rsa_model_functions.py) containing a set of pre-defined functions that actually do the work of calculating dissimilarity values and arranging them into matrices. \n",
    "\n",
    "Measures:\n",
    "- articulatory (feature-weighted phonological edit distance)\n",
    "- phonological (euclidean distance of G2P consistency vectors)\n",
    "- orthographic (correlation distance of open bigram vectors)\n",
    "- semantic (cosine distance of word2vec vectors)\n",
    "- visual (correlation distance of silhouette vectors)\n",
    "- word length (abs(length of word1 - length of word2))\n",
    "\n",
    "============================================================================================================="
   ]
  },
  {
   "cell_type": "markdown",
   "metadata": {},
   "source": [
    "### Import base packages\n",
    "\n",
    "Note, we only import packages used in this notebook. All dependencies for our custom functions are imported by  make_rsa_model_functions.py"
   ]
  },
  {
   "cell_type": "code",
   "execution_count": null,
   "metadata": {},
   "outputs": [],
   "source": [
    "import os\n",
    "import sys"
   ]
  },
  {
   "cell_type": "markdown",
   "metadata": {},
   "source": [
    "### Import module with custom functions\n",
    "\n",
    "This step requires that the path to our custom module be defined. The path is relative to \"top_dir\", which in turn is defined by a text file (top_dir_[OS].txt). The top_dir file should be stored ONE directory level up from the folder \n",
    "\n",
    "Important: make_rsa_model_functions calls various assets that are required for certain custom functions. The paths to these assets are defined relative to the path in top_dir_[OS].txt, which is also called by the module. HOWEVER (for strange Python reasons), the imported module locates top_dir.txt relative to THIS script. So, the top_dir path in make_rsa_model_functions should still be one directory level up from here, regardless of where make_rsa_model_functions.py is actually stored. "
   ]
  },
  {
   "cell_type": "code",
   "execution_count": null,
   "metadata": {},
   "outputs": [],
   "source": [
    "# Define paths\n",
    "top_dir =  open('../top_dir_win.txt').read().replace('\\n', '')\n",
    "custom_func_dir = os.path.join(top_dir, 'scripts', '0_custom_functions', 'python')\n",
    "\n",
    "# Add custom_func_dir to system path\n",
    "sys.path.insert(0, custom_func_dir)\n",
    "\n",
    "# Import custom functions\n",
    "from make_rsa_model_functions import *\n",
    "\n",
    "# Note - if the above line throws a warning about Levenshtein distance, \n",
    "# you can safely ignore it (we don't use Levenshtein distance)"
   ]
  },
  {
   "cell_type": "markdown",
   "metadata": {},
   "source": [
    "### Define lists of subjects, conditions, and experiments"
   ]
  },
  {
   "cell_type": "code",
   "execution_count": null,
   "metadata": {},
   "outputs": [],
   "source": [
    "subjects = ['subject-001', 'subject-002', 'subject-003', 'subject-004', 'subject-005', 'subject-006',\n",
    "            'subject-007', 'subject-008', 'subject-009', 'subject-010', 'subject-011', 'subject-012',\n",
    "            'subject-013', 'subject-014', 'subject-015', 'subject-016', 'subject-017', 'subject-018',\n",
    "           'subject-019', 'subject-020', 'subject-021', 'subject-022', 'subject-023', 'subject-024',\n",
    "           'subject-025', 'subject-026', 'subject-027', 'subject-028', 'subject-029', 'subject-030']\n",
    "\n",
    "# Note that the 'alltrials' condition refers to models comprising ALL stimuli \n",
    "# (regardless of condition). These are not used for RSA, but are treated later \n",
    "# on as \"exemplar\" models. These are used to estimate (potential) collinearity \n",
    "# between the models actually used for RSA.\n",
    "conditions = ['alltrials', 'aloud', 'silent']\n",
    "\n",
    "experiment = 'quickread'\n",
    "\n",
    "measures = [ \n",
    "            'articulatory',\n",
    "            'orthographic',\n",
    "            'phonological',\n",
    "            'semantic',\n",
    "            'visual',\n",
    "            'wordlength'\n",
    "           ]\n"
   ]
  },
  {
   "cell_type": "markdown",
   "metadata": {},
   "source": [
    "### Loop through subjects and conditions, using the pre-made functions to create matrices for each measure\n",
    "\n",
    "Note that the visual measure may take a long time, because it generates a unique image for every single word (per participant & condition)"
   ]
  },
  {
   "cell_type": "code",
   "execution_count": null,
   "metadata": {
    "scrolled": true
   },
   "outputs": [],
   "source": [
    "for subject in subjects:\n",
    "    print(subject)\n",
    "\n",
    "    # subject-009 did not complete the quickread experiment\n",
    "    if subject=='subject-009':\n",
    "        continue\n",
    "\n",
    "    # Define output directory\n",
    "    output_dir = os.path.join(assets_dir, subject, 'RSA_models', experiment)\n",
    "\n",
    "    if not os.path.exists(output_dir):\n",
    "        os.makedirs(output_dir)\n",
    "\n",
    "    # Read in word lists\n",
    "    words_aloud_fn = os.path.join(top_dir, 'behavioural_data', subfolder, subject, 'aloud_words.txt')\n",
    "    words_aloud = pd.read_csv(words_aloud_fn, header=None).sort_values(by=0)[0].tolist()\n",
    "\n",
    "    words_silent_fn = os.path.join(top_dir, 'behavioural_data', subfolder, subject, 'silent_words.txt')\n",
    "    words_silent = pd.read_csv(words_silent_fn, header=None).sort_values(by=0)[0].tolist()\n",
    "\n",
    "    words_alltrials = sorted(words_aloud + words_silent)\n",
    "\n",
    "    for condition in conditions:\n",
    "\n",
    "        for measure in measures:\n",
    "\n",
    "            # Call the function for this measure with eval\n",
    "            get_matrix = eval('make_' + measure + '_matrix')\n",
    "\n",
    "            # Call the word list for this condition\n",
    "            word_list = eval('words_' + condition)\n",
    "\n",
    "            # Generate a matrix for this condition\n",
    "            x = get_matrix(word_list)\n",
    "\n",
    "            # Save matrix to disk\n",
    "            output_fn = os.path.join(output_dir, experiment + '_' + subject + '_' + condition + '_' + measure + '.csv')\n",
    "            x.to_csv(output_fn)"
   ]
  },
  {
   "cell_type": "code",
   "execution_count": null,
   "metadata": {},
   "outputs": [],
   "source": []
  }
 ],
 "metadata": {
  "kernelspec": {
   "display_name": "Python 3",
   "language": "python",
   "name": "python3"
  },
  "language_info": {
   "codemirror_mode": {
    "name": "ipython",
    "version": 3
   },
   "file_extension": ".py",
   "mimetype": "text/x-python",
   "name": "python",
   "nbconvert_exporter": "python",
   "pygments_lexer": "ipython3",
   "version": "3.8.5"
  }
 },
 "nbformat": 4,
 "nbformat_minor": 4
}
